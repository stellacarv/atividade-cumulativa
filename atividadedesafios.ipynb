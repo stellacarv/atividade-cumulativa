{
 "cells": [
  {
   "cell_type": "code",
   "execution_count": 27,
   "metadata": {},
   "outputs": [
    {
     "name": "stdout",
     "output_type": "stream",
     "text": [
      "5 patinhos foram passear... Além das montanhas para brincar... A mamãe gritou: qua qua qua qua\n",
      "Mas só 4 patinhos voltaram de lá\n",
      "4 patinhos foram passear... Além das montanhas para brincar... A mamãe gritou: qua qua qua qua\n",
      "Mas só 3 patinhos voltaram de lá\n",
      "3 patinhos foram passear... Além das montanhas para brincar... A mamãe gritou: qua qua qua qua\n",
      "Mas só 2 patinhos voltaram de lá\n",
      "2 patinhos foram passear... Além das montanhas para brincar... A mamãe gritou: qua qua qua qua\n",
      "Mas só 1 patinho voltou de lá\n",
      "1 patinho foi passear... Além das montanhas para brincar... A mamãe gritou: qua qua qua qua\n",
      "Mas nenhum patinho voltou de lá\n"
     ]
    }
   ],
   "source": [
    "# Cinco patinhos foram passear\n",
    "\n",
    "for patinho in [5,4,3,2,1]:\n",
    "    if patinho == 1:\n",
    "        print(patinho, \"patinho foi passear... Além das montanhas para brincar... A mamãe gritou: qua qua qua qua\")\n",
    "    else:\n",
    "         print(patinho, \"patinhos foram passear... Além das montanhas para brincar... A mamãe gritou: qua qua qua qua\")\n",
    "    if patinho -1 == 0:     \n",
    "        print('Mas nenhum patinho voltou de lá')\n",
    "    elif patinho -1 == 1:\n",
    "        print(\"Mas só\", patinho -1, \"patinho voltou de lá\")\n",
    "    else:\n",
    "        print(\"Mas só\", patinho -1, \"patinhos voltaram de lá\")\n",
    "        \n",
    "    \n"
   ]
  },
  {
   "cell_type": "code",
   "execution_count": 26,
   "metadata": {},
   "outputs": [
    {
     "name": "stdout",
     "output_type": "stream",
     "text": [
      "Mariana conta 1 Mariana conta 1 é 1 é Ana! Viva Mariana! Viva Mariana!\n",
      "Mariana conta 2 Mariana conta 2 é 1, é 2 é Ana! Viva Mariana! Viva Mariana!\n",
      "Mariana conta 3 Mariana conta 3 é 1, é 2, é 3 é Ana! Viva Mariana! Viva Mariana!\n",
      "Mariana conta 4 Mariana conta 4 é 1, é 2, é 3, é 4 é Ana! Viva Mariana! Viva Mariana!\n",
      "Mariana conta 5 Mariana conta 5 é 1, é 2, é 3, é 4, é 5 é Ana! Viva Mariana! Viva Mariana!\n",
      "Mariana conta 6 Mariana conta 6 é 1, é 2, é 3, é 4, é 5, é 6 é Ana! Viva Mariana! Viva Mariana!\n",
      "Mariana conta 7 Mariana conta 7 é 1, é 2, é 3, é 4, é 5, é 6, é 7 é Ana! Viva Mariana! Viva Mariana!\n",
      "Mariana conta 8 Mariana conta 8 é 1, é 2, é 3, é 4, é 5, é 6, é 7, é 8 é Ana! Viva Mariana! Viva Mariana!\n",
      "Mariana conta 9 Mariana conta 9 é 1, é 2, é 3, é 4, é 5, é 6, é 7, é 8, é 9 é Ana! Viva Mariana! Viva Mariana!\n",
      "Mariana conta 10 Mariana conta 10 é 1, é 2, é 3, é 4, é 5, é 6, é 7, é 8, é 9, é 10 é Ana! Viva Mariana! Viva Mariana!\n"
     ]
    }
   ],
   "source": [
    "# Mariana conta 1... Mariana conta 2... \n",
    "\n",
    "conta = [1, 2, 3, 4, 5, 6, 7, 8, 9, 10]\n",
    "acumulados_str = ''\n",
    "\n",
    "for i in range(len(conta)):\n",
    "    num = conta[i]\n",
    "    if i == 0:\n",
    "        acumulados_str = 'é ' + str(num)\n",
    "    else:\n",
    "        acumulados_str += ', é ' + str(num)\n",
    "    print(f'Mariana conta {num} Mariana conta {num} {acumulados_str} é Ana! Viva Mariana! Viva Mariana!')\n",
    "\n",
    "\n"
   ]
  },
  {
   "cell_type": "code",
   "execution_count": 25,
   "metadata": {},
   "outputs": [
    {
     "name": "stdout",
     "output_type": "stream",
     "text": [
      "1 elefante incomoda muita gente\n",
      "2 elefantes incomodam incomodam muito mais\n",
      "3 elefantes incomodam muita gente\n",
      "4 elefantes incomodam incomodam incomodam incomodam muito mais\n",
      "5 elefantes incomodam muita gente\n",
      "6 elefantes incomodam incomodam incomodam incomodam incomodam incomodam muito mais\n",
      "7 elefantes incomodam muita gente\n",
      "8 elefantes incomodam incomodam incomodam incomodam incomodam incomodam incomodam incomodam muito mais\n",
      "9 elefantes incomodam muita gente\n",
      "10 elefantes incomodam incomodam incomodam incomodam incomodam incomodam incomodam incomodam incomodam incomodam muito mais\n"
     ]
    }
   ],
   "source": [
    "# Um elefante incomoda muita gente \n",
    "\n",
    "\n",
    "n = [1, 2, 3, 4, 5, 6, 7, 8, 9, 10]\n",
    "\n",
    "for elefantes in n:\n",
    "    if elefantes == 1:\n",
    "        print(elefantes, 'elefante incomoda muita gente')\n",
    "    elif elefantes % 2 != 0:\n",
    "        print(elefantes, 'elefantes incomodam muita gente')\n",
    "    else:\n",
    "        print(elefantes, 'elefantes', 'incomodam ' * elefantes + 'muito mais')"
   ]
  },
  {
   "cell_type": "code",
   "execution_count": null,
   "metadata": {},
   "outputs": [],
   "source": []
  }
 ],
 "metadata": {
  "kernelspec": {
   "display_name": "Python 3",
   "language": "python",
   "name": "python3"
  },
  "language_info": {
   "codemirror_mode": {
    "name": "ipython",
    "version": 3
   },
   "file_extension": ".py",
   "mimetype": "text/x-python",
   "name": "python",
   "nbconvert_exporter": "python",
   "pygments_lexer": "ipython3",
   "version": "3.12.3"
  }
 },
 "nbformat": 4,
 "nbformat_minor": 2
}
