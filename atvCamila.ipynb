{
 "cells": [
  {
   "cell_type": "code",
   "execution_count": null,
   "metadata": {},
   "outputs": [],
   "source": [
    "range()"
   ]
  },
  {
   "cell_type": "code",
   "execution_count": 1,
   "metadata": {},
   "outputs": [],
   "source": [
    "def funcaoLeitura ():\n",
    "    for num in [1, 2, 3, 4, 5]:\n",
    "      print('Número', num)\n"
   ]
  },
  {
   "cell_type": "code",
   "execution_count": 3,
   "metadata": {},
   "outputs": [],
   "source": [
    "def funcaoLeitura ():\n",
    "    for num in range [5]:\n",
    "      print('Número', num)"
   ]
  },
  {
   "cell_type": "code",
   "execution_count": 6,
   "metadata": {},
   "outputs": [],
   "source": [
    "#Função para somar dois números\n",
    "def  addNum(n1, n2):\n",
    "    print('O primeiro número é:', n1)\n",
    "    print('O segundo número é', n2)\n",
    "    print('A soma número é:', n1+n2)"
   ]
  },
  {
   "cell_type": "code",
   "execution_count": 7,
   "metadata": {},
   "outputs": [
    {
     "name": "stdout",
     "output_type": "stream",
     "text": [
      "O primeiro número é: 4\n",
      "O segundo número é 3\n",
      "A soma número é: 7\n",
      "O primeiro número é: 5\n",
      "O segundo número é 6\n",
      "A soma número é: 11\n"
     ]
    }
   ],
   "source": [
    "addNum(4, 3)\n",
    "addNum(5, 6)"
   ]
  },
  {
   "cell_type": "code",
   "execution_count": 9,
   "metadata": {},
   "outputs": [],
   "source": [
    "varGlobal = 10 #Essa é uma variável global\n",
    "def multiplica(num1, num2):\n",
    "    varLocal = num1 * num2 #Essa é uma variável local\n",
    "    print('Variável da função multiplica:', varLocal)\n",
    "    #print(varLocal)\n"
   ]
  },
  {
   "cell_type": "code",
   "execution_count": 12,
   "metadata": {},
   "outputs": [
    {
     "name": "stdout",
     "output_type": "stream",
     "text": [
      "Variável da função multiplica: 100\n"
     ]
    }
   ],
   "source": [
    "multiplica(10, 10)"
   ]
  },
  {
   "cell_type": "code",
   "execution_count": 13,
   "metadata": {},
   "outputs": [
    {
     "name": "stdout",
     "output_type": "stream",
     "text": [
      "Variável da função multiplica: 20\n",
      "10\n"
     ]
    }
   ],
   "source": [
    "varGlobal = 10 #Essa é uma variável global\n",
    "def multiplicacao(num1, num2):\n",
    "    #Apesar do mesmo nome, é uma variável local\n",
    "    varGlobal = (num1*num2)\n",
    "    print('Variável da função multiplica:', varGlobal)\n",
    "    \n",
    "multiplicacao(5, 4)\n",
    "print(varGlobal) #tem que identar a primeira varGlobal"
   ]
  },
  {
   "cell_type": "code",
   "execution_count": 14,
   "metadata": {},
   "outputs": [],
   "source": [
    "#Quando não sabemos a quantidade de parâmetros basta.\n",
    "def variosParametros (*parametros):#o '*' significa TODOS os parâmetros.\n",
    "    for n, item in enumerate(parametros):\n",
    "        print('Parametros', n, item)#'n' corresponde a posição do parametro; e 'item' ao valor.\n",
    "    return #executar a função    "
   ]
  },
  {
   "cell_type": "code",
   "execution_count": 17,
   "metadata": {},
   "outputs": [
    {
     "name": "stdout",
     "output_type": "stream",
     "text": [
      "Parametros 0 Stella\n",
      "Parametros 1 Matheus\n",
      "Parametros 2 Cuzerra\n",
      "Parametros 3 Cusadora\n",
      "Parametros 4 Cuvellyn\n",
      "Parametros 5 Cuvid\n",
      "Parametros 6 Cufael\n"
     ]
    }
   ],
   "source": [
    "variosParametros('Stella', 'Matheus', 'Cuzerra', 'Cusadora','Cuvellyn','Cuvid','Cufael')"
   ]
  },
  {
   "cell_type": "code",
   "execution_count": 18,
   "metadata": {},
   "outputs": [],
   "source": [
    "def soma(n1, n2):\n",
    "    return n1+n2\n",
    "\n",
    "def subtrai(n1, n2):\n",
    "    return n1-n2\n",
    "\n",
    "def multiplica(n1, n2):\n",
    "    return n1*n2\n",
    "\n",
    "def divide(n1, n2):\n",
    "    return n1/n2            "
   ]
  },
  {
   "cell_type": "code",
   "execution_count": 25,
   "metadata": {},
   "outputs": [
    {
     "name": "stdout",
     "output_type": "stream",
     "text": [
      "+==================+\n",
      "| MENU DE OPERAÇÕES|\n",
      "|  1 - somar       |\n",
      "|  2 - subtrair    |\n",
      "|  3 - multiplicar |\n",
      "|  4 - dividir     |\n",
      "|  0 - sair        |\n",
      "+==================+\n",
      "O resultado da multiplicação é: 72\n"
     ]
    }
   ],
   "source": [
    "while True:\n",
    "    print('+==================+')\n",
    "    print('| MENU DE OPERAÇÕES|')\n",
    "    print('|  1 - somar       |')\n",
    "    print('|  2 - subtrair    |')\n",
    "    print('|  3 - multiplicar |')\n",
    "    print('|  4 - dividir     |')\n",
    "    print('|  0 - sair        |')\n",
    "    print('+==================+')\n",
    "\n",
    "    op= int(input())\n",
    "    if op==0:\n",
    "        break\n",
    "\n",
    "    n1 = int(input('Primeiro número:'))#Pedir o primeiro número pro usuário (somar)\n",
    "    n2 = int(input('Segundo número:'))#Pedir o segundo número pro usuário (subtrair)\n",
    "\n",
    "    if op==1:\n",
    "        print('O resultado da soma é:', soma (n1, n2))\n",
    "    elif op==2:\n",
    "        print('O resultado da subtração é:', subtrai(n1,n2))  \n",
    "    elif op==3:\n",
    "        print('O resultado da multiplicação é:', multiplica(n1,n2))  \n",
    "    elif op==4:\n",
    "        print('O resultado da divisão é:', divide(n1,n2))\n",
    "\n",
    "    break"
   ]
  }
 ],
 "metadata": {
  "kernelspec": {
   "display_name": "Python 3",
   "language": "python",
   "name": "python3"
  },
  "language_info": {
   "codemirror_mode": {
    "name": "ipython",
    "version": 3
   },
   "file_extension": ".py",
   "mimetype": "text/x-python",
   "name": "python",
   "nbconvert_exporter": "python",
   "pygments_lexer": "ipython3",
   "version": "3.11.9"
  }
 },
 "nbformat": 4,
 "nbformat_minor": 2
}
