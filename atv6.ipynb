{
 "cells": [
  {
   "cell_type": "code",
   "execution_count": 5,
   "metadata": {},
   "outputs": [],
   "source": [
    "#1 Faça um programa que identifique se a letra digitada é vogal ou consoante."
   ]
  },
  {
   "cell_type": "code",
   "execution_count": 6,
   "metadata": {},
   "outputs": [
    {
     "name": "stdout",
     "output_type": "stream",
     "text": [
      "Sua letra é uma consoante\n"
     ]
    }
   ],
   "source": [
    "#Criando variável para letra.\n",
    "letra = input(\"Digite uma letra :\")\n",
    "\n",
    "#Situacional para diferenciar vogal de consoante.\n",
    "if letra == \"a\" or letra == \"e\" or letra == \"i\" or letra == \"o\" or letra == \"u\":\n",
    "    print(\"Sua letra é uma vogal\")\n",
    "else:\n",
    "    print(\"Sua letra é uma consoante\")\n"
   ]
  },
  {
   "cell_type": "code",
   "execution_count": null,
   "metadata": {},
   "outputs": [],
   "source": [
    "#2  Faça um programa que pergunte o preço de três produtos e informe qual produto você deve comprar, sabendo que a decisão é sempre pelo mais barato."
   ]
  },
  {
   "cell_type": "code",
   "execution_count": 31,
   "metadata": {},
   "outputs": [
    {
     "name": "stdout",
     "output_type": "stream",
     "text": [
      "Compre o produto 2 pelo valor de $5\n"
     ]
    }
   ],
   "source": [
    "#Criando variáveis dos números.\n",
    "preco1 = input(\"Digite o valor do primeiro produto :\")\n",
    "preco2 = input(\"Digite o valor do segundo produto :\")\n",
    "preco3 = input(\"Digite o valor do terceiro produto :\")\n",
    "\n",
    "#Criando os situacionais de preço para definir o melhor valor para compra.\n",
    "if preco1 < preco2 and preco1 < preco3 or preco3 > preco1 and preco2 > preco1:\n",
    "    print(f'Compre o produto 1 pelo valor de ${preco1}')\n",
    "\n",
    "elif preco2 < preco1 and preco2 < preco3 or preco3 > preco2 and preco1 > preco2:#Usando o elif para evitar o uso de massante de if e else.\n",
    "    print(f'Compre o produto 2 pelo valor de ${preco2}')\n",
    "\n",
    "elif preco3 < preco1 and preco3 < preco2 or preco2 > preco3 and preco1 > preco3:\n",
    "    print(f'Compre o produto 3 pelo valor de ${preco3}')\n"
   ]
  },
  {
   "cell_type": "code",
   "execution_count": 32,
   "metadata": {},
   "outputs": [],
   "source": [
    "#3 Faça um programa que leia três números e mostre-os em ordem crescente"
   ]
  },
  {
   "cell_type": "code",
   "execution_count": 35,
   "metadata": {},
   "outputs": [
    {
     "name": "stdout",
     "output_type": "stream",
     "text": [
      "1.0 2.0 3.0\n"
     ]
    }
   ],
   "source": [
    "#Variáveis dos números\n",
    "\n",
    "#Não esquecer de utilizar o float, para transformar a string em número. Caso não use, a lista não será ordenada de forma crescente.\n",
    "\n",
    "num1 = float(input(\"Digite um número :\"))\n",
    "num2 = float(input(\"Digite outro número :\"))\n",
    "num3 = float(input(\"Digite mais um número :\"))\n",
    "\n",
    "#Criando listas e printando em ordem crescente.\n",
    "listaNumeros = [num1,num2,num3]\n",
    "\n",
    "#definindo as variáveis do num1.No if ele como maior, no elif ele sendo o segundo maior numero, e no else ele comom o menor\n",
    "if num1 > num2 and num1 > num3 :\n",
    "  maiorNum = num1 \n",
    "elif num1 < num2 and num1 > num3 or num1 > num2 and num1 < num3:\n",
    "  medioNum = num1\n",
    "else: \n",
    "  menorNum = num1\n",
    "\n",
    "#definindo vairaveis num2.No if ele como maior, no elif ele sendo o segundo maior numero, e no else ele comom o menor\n",
    "if num2 > num1 and num2 > num3: \n",
    "  maiorNum = num2 \n",
    "elif num2 < num1 and num2 > num3 or num2 > num1 and num2 < num3:\n",
    "  medioNum = num2\n",
    "else: \n",
    "  menorNum = num2\n",
    "\n",
    "#definindo vairaveis num3. No if ele como maior, no elif ele sendo o segundo maior numero, e no else ele comom o menor\n",
    "if num3 > num2 and num3 > num1:\n",
    "  maiorNum = num3\n",
    "elif num3 < num1 and num3 > num2 or num2 > num1 and num1 < num3:\n",
    "  medioNum = num3\n",
    "else: \n",
    "  menorNum = num3\n",
    "\n",
    "print(menorNum,medioNum,maiorNum)"
   ]
  },
  {
   "cell_type": "code",
   "execution_count": null,
   "metadata": {},
   "outputs": [],
   "source": [
    "#4 questão Faça um programa que pergunte em que turno você estuda. Peça para digitar M-matutino e V-verpertino ou N-noturno. Imprima a mensagem \"Bom dia!\",\"Boa tarde!\" ou \"Boa noite\" ou \"valor inválido,conforme o caso\""
   ]
  },
  {
   "cell_type": "code",
   "execution_count": 36,
   "metadata": {},
   "outputs": [
    {
     "name": "stdout",
     "output_type": "stream",
     "text": [
      "Boa noite!\n"
     ]
    }
   ],
   "source": [
    "#Criando variavel para perguntar os turnos.\n",
    "turno = (input(\"Qual turno você estuda? M para manhã/matutino, T para tarde ou N para noite:\"))\n",
    "\n",
    "#Utilizando if's para definir se é manha, tarde, noite ou se o valor é inválido.\n",
    "if turno == \"M\" or turno == \"m\":\n",
    "    print(\"Bom dia!\")\n",
    "\n",
    "elif turno == \"V\" or turno == \"v\":\n",
    "    print(\"Boa Tarde!\")\n",
    "\n",
    "elif turno == \"N\" or turno == \"n\":\n",
    "    print(\"Boa noite!\")  \n",
    "else:\n",
    "    print(\"Valor inválido\")      "
   ]
  },
  {
   "cell_type": "code",
   "execution_count": null,
   "metadata": {},
   "outputs": [],
   "source": [
    "#5 Faça um programa que leia um número e exiba o dia correspondente da semana(1-Domingo, 2-Segunda, etc). Se for digitado outro valor deve retornar uma mensagem informando o valor inválido."
   ]
  },
  {
   "cell_type": "code",
   "execution_count": 10,
   "metadata": {},
   "outputs": [
    {
     "name": "stdout",
     "output_type": "stream",
     "text": [
      "inválido\n"
     ]
    }
   ],
   "source": [
    "#Criando variáveis para os dias da semana.\n",
    "listaDiasSemanais = [\"Domingo\",\"Segunda\",\"Terça\",\"Quarta\",\"Quinta\",\"Sexta\",\"Sábado\"]\n",
    "\n",
    "#Guardando o valor do input na variável \"diasNum\"\n",
    "diasNum = int(input(\"Digite um numero de 1 a 7\"))\n",
    "\n",
    "#Situacional para identificar os dias da semana ou se é inválido. \n",
    "if diasNum >= 1 and diasNum <= 7: #Dizendo que a variável \"diasNum\" tem que estar entre 1 e 7\n",
    "    print(listaDiasSemanais[diasNum - 1])#Printando um elemento da lista e tambem subtraindo 1, já que a contagem em python começa do índice zero. \n",
    "else:\n",
    "    print(\"inválido\")    \n"
   ]
  },
  {
   "cell_type": "code",
   "execution_count": 95,
   "metadata": {},
   "outputs": [
    {
     "name": "stdout",
     "output_type": "stream",
     "text": [
      "Parabéns, você foi REPROVADO suas notas foram 3.0 e 3.0, sua média foi 4.5 e seu conceito foi D \n"
     ]
    }
   ],
   "source": [
    "#6 Faça um programa que lê duas notas parciais obtidas por um aluno numa disciplina ao longo de um semestre, e calcule sua média. A atribuição de conceitos obedece às regras:\n",
    "\n",
    "#O programa deve mostrar na tela as notas, a média, o conceito correspondente e a mensagem 'APROVADO' se o conceito for A,B ou C ou 'REPROVADO' se o conceito for D ou E.\n",
    "\n",
    "nota1 = float(input(\"Digite sua primeira nota: \"))\n",
    "nota2 = float(input(\"Digite sua segunda nota: \"))\n",
    "\n",
    "mediaNota = nota1 + (nota2/2)\n",
    "\n",
    "if mediaNota >= 9.0 and mediaNota <= 10:\n",
    "    print(f\"Parabéns, você foi APROVADO suas notas foram {nota1} e {nota2}, sua média foi {mediaNota} e seu conceito foi A\")\n",
    "elif mediaNota >= 7.5 and mediaNota <= 9.0:\n",
    "    print(f\"Parabéns, você foi APROVADO suas notas foram {nota1} e {nota2}, sua média foi {mediaNota} e seu conceito foi B\")\n",
    "elif mediaNota >= 6.0 and mediaNota <= 7.5:\n",
    "    print(f\"Parabéns, você foi APROVADO suas notas foram {nota1} e {nota2}, sua média foi {mediaNota} e seu conceito foi C\")\n",
    "elif mediaNota >= 4.0 and mediaNota <= 6.0:\n",
    "    print(f\"Infelimente, você foi REPROVADO suas notas foram {nota1} e {nota2}, sua média foi {mediaNota} e seu conceito foi D\")    \n",
    "elif mediaNota >= 0.0 and mediaNota <= 4.0:\n",
    "    print(f\"Infelizmente, você foi REPROVADO suas notas foram {nota1} e {nota2}, sua média foi {mediaNota} e seu conceito foi E\")                    "
   ]
  },
  {
   "cell_type": "code",
   "execution_count": null,
   "metadata": {},
   "outputs": [],
   "source": [
    "#7 Faça um programa que peça um número correspondente a um determinado ano e em seguida informe se este ano é ou não bissexto."
   ]
  },
  {
   "cell_type": "code",
   "execution_count": null,
   "metadata": {},
   "outputs": [],
   "source": [
    "#Para o ano ser bissexto ele deve ser divisivel por 4,100,400"
   ]
  },
  {
   "cell_type": "code",
   "execution_count": 25,
   "metadata": {},
   "outputs": [
    {
     "name": "stdout",
     "output_type": "stream",
     "text": [
      "Seu ano não é bissexto\n"
     ]
    }
   ],
   "source": [
    "ano = int(input(\"Digite um ano de sua escolha\"))\n",
    "\n",
    "#Fiz um situacional onde, caso o ano digitado seja divisivel por 4,100 ou 400, ele será considerado bissexto\n",
    "if ano % 4 == 0 and ano/100 != 0:\n",
    "  print(\"Seu ano é bissexto\")\n",
    "else:\n",
    "  print(\"Seu ano não é bissexto\")"
   ]
  },
  {
   "cell_type": "code",
   "execution_count": 11,
   "metadata": {},
   "outputs": [],
   "source": [
    "#8 Faça um programa que leia 2 números e em seguida pergunte ao usuário qual operação básica(soma,subtração,divisão,multiplicação e exponenciação)ele deseja realizar. O resultado da operação deve ser acompanhado de uma frase que diga se o número é : par ou impar; positivo ou negativo; inteiro ou decimal;"
   ]
  },
  {
   "cell_type": "code",
   "execution_count": 45,
   "metadata": {},
   "outputs": [
    {
     "name": "stdout",
     "output_type": "stream",
     "text": [
      "O resultado da sua operação é 2.0 . Esse resultado é par, ele também é positivo, sendo um número inteiro \n"
     ]
    }
   ],
   "source": [
    "#Definindo as variáveis dos números com o float para números e o input de inteaçao com o usuário. E o op para perguntar a operação.\n",
    "num1 = float(input(\"Digite um numero\"))\n",
    "num2 = float(input(\"Digite outro numero\"))\n",
    "op = input(\"Qual operação você deseja realizar(soma,subtração,divisão,multiplicação e exponenciação)?\")\n",
    "\n",
    "#Usando if,elif e else para que o programa leia qual a operação que foi escolhida no input acima. E no else para caso ocorra erro de digitação ou a pessoa digite uma operação que não está registrada.\n",
    "if op == \"soma\" or op == \"Soma\":\n",
    "     resultado = num1 + num2\n",
    "\n",
    "elif op == \"subtração\" or op == \"Subtração\" or op == \"subtraçao\" or op == \"Subtraçao\":\n",
    "    resultado = num1 - num2\n",
    "\n",
    "elif op == \"divisão\" or op == \"Divisão\" or op == \"divisao\" or op == \"Divisao\":\n",
    "  if num2 != 0:\n",
    "    resultado = num1 / num2\n",
    "  else:\n",
    "     print(\"Erro ao tentar dividir por 0\")\n",
    "\n",
    "elif op == \"multiplicação\" or op == \"Multiplicação\" or op == \"multiplicaçao\" or op == \"Multiplicaçao\":\n",
    "    resultado = num1 * num2\n",
    "  \n",
    "elif op == \"exponenciação\" or op == \"Exponenciação\" or op == \"exponenciaçao\" or op == \"Exponenciaçao\":\n",
    "    resultado = num1 ** num2\n",
    "\n",
    "else:\n",
    "    print(\"Operação inválida\")\n",
    "\n",
    "#Criando um situacional para identicar se o resultado da operação é impar ou par. Usando divisao com a \"%\" para que caso o resto seja 0 o número será par.\n",
    "\n",
    "if resultado% num2 == 0 :\n",
    "  parImpar = \"par\"\n",
    "else:\n",
    "  parImpar = \"impar\"\n",
    "\n",
    "#Criando um situacional para identicar se o resultado da operação é negativo,positivo ou neutro. Usando os sinal de maior que , menor que, e igual.\n",
    "  \n",
    "if resultado >= 1:\n",
    "  sinal = \"positivo\"\n",
    "elif resultado == 0:\n",
    "  sinal = \"neutro\"\n",
    "else:\n",
    "  sinal = \"negativo\"\n",
    "\n",
    "#Criando um situacional para identicar se o resultado da operação é inteiro ou decimal. Utilizando o \"int\" para especificar que o número deve ser inteiro\n",
    "  \n",
    "if resultado ==  int(resultado):\n",
    "    intDeci = \"inteiro\"\n",
    "else:\n",
    "    intDeci = \"decimal\"\n",
    "\n",
    "#Printando todas as informações pedidas na questão nessa frase abaixo.\n",
    "   \n",
    "print(f\"O resultado da sua operação é {resultado} . Esse resultado é {parImpar}, ele também é {sinal}, sendo um número {intDeci}. \") \n",
    "          "
   ]
  },
  {
   "cell_type": "code",
   "execution_count": null,
   "metadata": {},
   "outputs": [],
   "source": [
    "#9 Faça um programa que peça a idade e exiba a informação. Os valores aceitáveis devem estar entre 0 e 150. Valores fora desse limite não poderão ser aceitos."
   ]
  },
  {
   "cell_type": "code",
   "execution_count": 6,
   "metadata": {},
   "outputs": [
    {
     "name": "stdout",
     "output_type": "stream",
     "text": [
      "A sua idade é 23\n"
     ]
    }
   ],
   "source": [
    "idade =  int(input(\"Digite sua idade:\"))\n",
    "if idade >= 0 and idade <=90:\n",
    "    print(f\"A sua idade é {idade}\")\n",
    "else:\n",
    "    print(\"Valor inválido.\")"
   ]
  },
  {
   "cell_type": "code",
   "execution_count": 1,
   "metadata": {},
   "outputs": [],
   "source": [
    "#10 Utilizando estruturas de repetição e listas(com ou sem .append), faça um programa que leia 5 números e informe a soma e a média dos números."
   ]
  },
  {
   "cell_type": "code",
   "execution_count": 5,
   "metadata": {},
   "outputs": [
    {
     "name": "stdout",
     "output_type": "stream",
     "text": [
      "Sua idade é 20\n"
     ]
    }
   ],
   "source": [
    "idade = int(input('Quantos anos você tem?'))\n",
    "if idade >= 0 and idade <=100:\n",
    "   print(f'Sua idade é {idade}')\n",
    "else:\n",
    "   print('Idade não aceita ;/')\n"
   ]
  },
  {
   "cell_type": "code",
   "execution_count": null,
   "metadata": {},
   "outputs": [],
   "source": [
    "#11 Faça um programa que peça um número inteiro e determine se ele é ou não primo. Um número primo é aquele que é divisível somente ele mesmo e por 1."
   ]
  },
  {
   "cell_type": "code",
   "execution_count": 15,
   "metadata": {},
   "outputs": [
    {
     "name": "stdout",
     "output_type": "stream",
     "text": [
      "Não é um número primo.\n"
     ]
    }
   ],
   "source": [
    "numInt = int(input(\"Digite um número inteiro: \"))\n",
    "divisores = 0\n",
    "if numInt > 1:\n",
    "    for i in range (1, numInt + 1):\n",
    "        if numInt % i == 0:\n",
    "            divisores += 1\n",
    "\n",
    "if divisores == 2:\n",
    "   print(\"Esse número é primo.\")\n",
    "else:\n",
    "    print(\"Não é um número primo.\")"
   ]
  },
  {
   "cell_type": "code",
   "execution_count": 8,
   "metadata": {},
   "outputs": [],
   "source": [
    "#12 Faça um programa que leia 5 temperaturas, e informe ao final a menor e a maior "
   ]
  },
  {
   "cell_type": "code",
   "execution_count": 9,
   "metadata": {},
   "outputs": [
    {
     "name": "stdout",
     "output_type": "stream",
     "text": [
      "A menor temperatura:10\n",
      "A maior temperatura é:[20, 30, 40, 50]\n",
      "A média é: 30.0\n"
     ]
    }
   ],
   "source": [
    "temperaturas = [10, 20, 30, 40, 50]\n",
    "menor_temp= min(temperaturas)\n",
    "maior_temp= sorted(temperaturas)[-4:]\n",
    "\n",
    "media_temperaturas= sum(temperaturas)/len(temperaturas)\n",
    "\n",
    "print(f'A menor temperatura:{menor_temp}')\n",
    "print(f'A maior temperatura é:{maior_temp}')\n",
    "print(f'A média é: {media_temperaturas}')"
   ]
  },
  {
   "cell_type": "code",
   "execution_count": null,
   "metadata": {},
   "outputs": [],
   "source": [
    "#13 Mostrar uma mensagem informando os saldo médio e valor do crédito."
   ]
  },
  {
   "cell_type": "code",
   "execution_count": null,
   "metadata": {},
   "outputs": [],
   "source": [
    "saldoMedio = 400.80\n",
    "\n",
    "if saldoMedio >= 0 and saldoMedio <= 400:\n",
    "    print(\"Você não possui crédito.\")\n",
    "elif saldoMedio > 200 and saldoMedio <= 600:\n",
    "    credito = saldoMedio * 0.2\n",
    "    print(\"Seu saldo médio é: R$\", saldoMedio, \", e o valor do sue crédito é: R$\", credito)\n",
    "elif saldoMedio > 400 and saldoMedio <= 600:\n",
    "    credito = saldoMedio * 0.3\n",
    "    print(\"Seu saldo médio é: R$\", saldoMedio, \", e o valor do sue crédito é: R$\", credito)\n",
    "else:\n",
    "    credito = saldoMedio * 0.4"
   ]
  },
  {
   "cell_type": "code",
   "execution_count": null,
   "metadata": {},
   "outputs": [],
   "source": [
    "#14 INSS"
   ]
  },
  {
   "cell_type": "code",
   "execution_count": 37,
   "metadata": {},
   "outputs": [],
   "source": [
    "nome = str(input(\"Digite seu nome: \"))\n",
    "idade = int(input(\"Digite sua idade: \"))\n",
    "anosAposentar = 65 - idade\n",
    "\n",
    "mensagem = \"Você irá se aposentar daqui a \" , anosAposentar , \" anos.\"\n",
    "print(mensagem)"
   ]
  },
  {
   "cell_type": "code",
   "execution_count": null,
   "metadata": {},
   "outputs": [],
   "source": [
    "#15 Calcular folha de pagamento"
   ]
  },
  {
   "cell_type": "code",
   "execution_count": 17,
   "metadata": {},
   "outputs": [
    {
     "name": "stdout",
     "output_type": "stream",
     "text": [
      "Salário Bruto: R$ 320.0\n",
      "Desconto do Imposto de Renda: R$ 0\n",
      "Desconto do Sindicato: R$ 9.6\n",
      "FGTS: R$ 35.2\n",
      "Salário Líquido: R$ 310.4\n"
     ]
    }
   ],
   "source": [
    "valorHora = float(input(\"Digite o valor da sua hora de trabalho: \"))\n",
    "horasTrabalhadas = float(input(\"Digite a quantidade de horas trabalhadas no mês: \"))\n",
    "\n",
    "salarioBruto = valorHora * horasTrabalhadas\n",
    "\n",
    "if salarioBruto <= 2112.00:\n",
    "    descontoIr = 0\n",
    "elif salarioBruto <= 2826.65:\n",
    "    descontoIr = salarioBruto * 0.075\n",
    "elif salarioBruto <= 3751.05:\n",
    "    descontoIr = salarioBruto * 0.15\n",
    "elif salarioBruto <= 4664.68:\n",
    "    descontoIr = salarioBruto * 0.225\n",
    "else:\n",
    "    descontoIr = salarioBruto * 0.275\n",
    "\n",
    "descontoSindicato = salarioBruto * 0.03\n",
    "fgts = salarioBruto * 0.11\n",
    "salarioLiquido = salarioBruto - descontoIr - descontoSindicato\n",
    "\n",
    "print(\"Salário Bruto: R$\", salarioBruto)\n",
    "print(\"Desconto do Imposto de Renda: R$\", descontoIr)\n",
    "print(\"Desconto do Sindicato: R$\", descontoSindicato)\n",
    "print(\"FGTS: R$\", fgts)\n",
    "print(\"Salário Líquido: R$\", salarioLiquido)"
   ]
  }
 ],
 "metadata": {
  "kernelspec": {
   "display_name": "Python 3",
   "language": "python",
   "name": "python3"
  },
  "language_info": {
   "codemirror_mode": {
    "name": "ipython",
    "version": 3
   },
   "file_extension": ".py",
   "mimetype": "text/x-python",
   "name": "python",
   "nbconvert_exporter": "python",
   "pygments_lexer": "ipython3",
   "version": "3.12.1"
  }
 },
 "nbformat": 4,
 "nbformat_minor": 2
}
