{
 "cells": [
  {
   "cell_type": "code",
   "execution_count": 6,
   "metadata": {},
   "outputs": [
    {
     "ename": "TypeError",
     "evalue": "'str' object is not callable",
     "output_type": "error",
     "traceback": [
      "\u001b[1;31m---------------------------------------------------------------------------\u001b[0m",
      "\u001b[1;31mTypeError\u001b[0m                                 Traceback (most recent call last)",
      "Cell \u001b[1;32mIn[6], line 2\u001b[0m\n\u001b[0;32m      1\u001b[0m \u001b[38;5;28;01mwhile\u001b[39;00m \u001b[38;5;28;01mTrue\u001b[39;00m:\n\u001b[1;32m----> 2\u001b[0m     \u001b[38;5;28;43mprint\u001b[39;49m\u001b[43m(\u001b[49m\u001b[38;5;124;43m'\u001b[39;49m\u001b[38;5;124;43m+==================+\u001b[39;49m\u001b[38;5;124;43m'\u001b[39;49m\u001b[43m)\u001b[49m\n\u001b[0;32m      3\u001b[0m     \u001b[38;5;28mprint\u001b[39m(\u001b[38;5;124m'\u001b[39m\u001b[38;5;124m| MENU DE OPERAÇÕES|\u001b[39m\u001b[38;5;124m'\u001b[39m)\n\u001b[0;32m      4\u001b[0m     \u001b[38;5;28mprint\u001b[39m(\u001b[38;5;124m'\u001b[39m\u001b[38;5;124m|  1 - somar       |\u001b[39m\u001b[38;5;124m'\u001b[39m)\n",
      "\u001b[1;31mTypeError\u001b[0m: 'str' object is not callable"
     ]
    }
   ],
   "source": [
    "while True:\n",
    "    print('+==================+')\n",
    "    print('| MENU DE OPERAÇÕES|')\n",
    "    print('|  1 - somar       |')\n",
    "    print('|  2 - subtrair    |')\n",
    "    print('|  3 - multiplicar |')\n",
    "    print('|  4 - dividir     |')\n",
    "    print('|  5 - potência    |')  # Adicionando operação de potência\n",
    "    print('|  6 - resto       |')  # Adicionando operação de resto (módulo)\n",
    "    print('|  0 - sair        |')\n",
    "    print('+==================+')\n",
    "\n",
    "    op = int(input('Escolha uma operação: '))\n",
    "    if op == 0:\n",
    "        print('Programa encerrado.')\n",
    "        break\n",
    "\n",
    "    n1 = float(input('Primeiro número: '))  # Usando float para permitir números decimais\n",
    "    n2 = float(input('Segundo número: '))\n",
    "\n",
    "    if op == 1:\n",
    "        print('O resultado da soma é:', n1 + n2)\n",
    "    elif op == 2:\n",
    "        print('O resultado da subtração é:', n1 - n2)\n",
    "    elif op == 3:\n",
    "        print('O resultado da multiplicação é:', n1 * n2)\n",
    "    elif op == 4:\n",
    "        if n2 != 0:\n",
    "            print('O resultado da divisão é:', n1 / n2)\n",
    "        else:\n",
    "            print('Não é possível dividir por zero!')\n",
    "    elif op == 5:\n",
    "        print('O resultado da potência é:', n1 ** n2)\n",
    "    elif op == 6:\n",
    "        print('O resto da divisão é:', n1 % n2)\n",
    "    else:\n",
    "        print('Operação inválida. Por favor, escolha uma operação válida.')\n",
    "\n",
    "    input('CLIQUE EM ENTER PARA TENTAR DNV')\n",
    "    print('\\n')\n",
    "    break"
   ]
  }
 ],
 "metadata": {
  "kernelspec": {
   "display_name": "Python 3",
   "language": "python",
   "name": "python3"
  },
  "language_info": {
   "codemirror_mode": {
    "name": "ipython",
    "version": 3
   },
   "file_extension": ".py",
   "mimetype": "text/x-python",
   "name": "python",
   "nbconvert_exporter": "python",
   "pygments_lexer": "ipython3",
   "version": "3.12.3"
  }
 },
 "nbformat": 4,
 "nbformat_minor": 2
}
